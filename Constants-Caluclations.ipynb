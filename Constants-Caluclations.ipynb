{
 "cells": [
  {
   "cell_type": "code",
   "execution_count": 1,
   "metadata": {},
   "outputs": [],
   "source": [
    "#Import dependencies\n",
    "import pandas as pd"
   ]
  },
  {
   "cell_type": "code",
   "execution_count": 3,
   "metadata": {},
   "outputs": [
    {
     "data": {
      "text/html": [
       "<div>\n",
       "<style scoped>\n",
       "    .dataframe tbody tr th:only-of-type {\n",
       "        vertical-align: middle;\n",
       "    }\n",
       "\n",
       "    .dataframe tbody tr th {\n",
       "        vertical-align: top;\n",
       "    }\n",
       "\n",
       "    .dataframe thead th {\n",
       "        text-align: right;\n",
       "    }\n",
       "</style>\n",
       "<table border=\"1\" class=\"dataframe\">\n",
       "  <thead>\n",
       "    <tr style=\"text-align: right;\">\n",
       "      <th></th>\n",
       "      <th>Unnamed: 0</th>\n",
       "      <th>FIPS</th>\n",
       "      <th>Per_Capita_Income</th>\n",
       "      <th>Poverty</th>\n",
       "      <th>Disability</th>\n",
       "      <th>NoHighSchoolDiploma</th>\n",
       "      <th>LifeExpectancy</th>\n",
       "    </tr>\n",
       "  </thead>\n",
       "  <tbody>\n",
       "    <tr>\n",
       "      <th>0</th>\n",
       "      <td>0</td>\n",
       "      <td>1001</td>\n",
       "      <td>24644.0</td>\n",
       "      <td>12.8</td>\n",
       "      <td>16.0</td>\n",
       "      <td>13.8</td>\n",
       "      <td>75.67</td>\n",
       "    </tr>\n",
       "    <tr>\n",
       "      <th>1</th>\n",
       "      <td>1</td>\n",
       "      <td>1003</td>\n",
       "      <td>26851.0</td>\n",
       "      <td>13.8</td>\n",
       "      <td>14.1</td>\n",
       "      <td>11.0</td>\n",
       "      <td>78.08</td>\n",
       "    </tr>\n",
       "    <tr>\n",
       "      <th>2</th>\n",
       "      <td>2</td>\n",
       "      <td>1005</td>\n",
       "      <td>17350.0</td>\n",
       "      <td>24.1</td>\n",
       "      <td>20.0</td>\n",
       "      <td>25.4</td>\n",
       "      <td>75.42</td>\n",
       "    </tr>\n",
       "    <tr>\n",
       "      <th>3</th>\n",
       "      <td>3</td>\n",
       "      <td>1007</td>\n",
       "      <td>18110.0</td>\n",
       "      <td>17.0</td>\n",
       "      <td>15.8</td>\n",
       "      <td>22.1</td>\n",
       "      <td>73.97</td>\n",
       "    </tr>\n",
       "    <tr>\n",
       "      <th>4</th>\n",
       "      <td>4</td>\n",
       "      <td>1009</td>\n",
       "      <td>20501.0</td>\n",
       "      <td>17.3</td>\n",
       "      <td>17.0</td>\n",
       "      <td>21.9</td>\n",
       "      <td>76.16</td>\n",
       "    </tr>\n",
       "  </tbody>\n",
       "</table>\n",
       "</div>"
      ],
      "text/plain": [
       "   Unnamed: 0  FIPS  Per_Capita_Income  Poverty  Disability  \\\n",
       "0           0  1001            24644.0     12.8        16.0   \n",
       "1           1  1003            26851.0     13.8        14.1   \n",
       "2           2  1005            17350.0     24.1        20.0   \n",
       "3           3  1007            18110.0     17.0        15.8   \n",
       "4           4  1009            20501.0     17.3        17.0   \n",
       "\n",
       "   NoHighSchoolDiploma  LifeExpectancy  \n",
       "0                 13.8           75.67  \n",
       "1                 11.0           78.08  \n",
       "2                 25.4           75.42  \n",
       "3                 22.1           73.97  \n",
       "4                 21.9           76.16  "
      ]
     },
     "execution_count": 3,
     "metadata": {},
     "output_type": "execute_result"
    }
   ],
   "source": [
    "#Import SVI14 CSV\n",
    "svifinal_df = pd.read_csv('Datasets/svi14final.csv')\n",
    "svifinal_df.head()"
   ]
  },
  {
   "cell_type": "code",
   "execution_count": 8,
   "metadata": {},
   "outputs": [
    {
     "data": {
      "text/plain": [
       "Per_Capita_Income      24066.300955\n",
       "Poverty                   16.792452\n",
       "Disability                15.544076\n",
       "NoHighSchoolDiploma       15.013408\n",
       "LifeExpectancy            77.756350\n",
       "dtype: float64"
      ]
     },
     "execution_count": 8,
     "metadata": {},
     "output_type": "execute_result"
    }
   ],
   "source": [
    "#Calculate means - to be used in visualizations\n",
    "svifinal_df[['Per_Capita_Income', 'Poverty', 'Disability', 'NoHighSchoolDiploma', 'LifeExpectancy']].mean()"
   ]
  },
  {
   "cell_type": "code",
   "execution_count": null,
   "metadata": {},
   "outputs": [],
   "source": []
  }
 ],
 "metadata": {
  "kernelspec": {
   "display_name": "Python 3",
   "language": "python",
   "name": "python3"
  },
  "language_info": {
   "codemirror_mode": {
    "name": "ipython",
    "version": 3
   },
   "file_extension": ".py",
   "mimetype": "text/x-python",
   "name": "python",
   "nbconvert_exporter": "python",
   "pygments_lexer": "ipython3",
   "version": "3.7.2"
  }
 },
 "nbformat": 4,
 "nbformat_minor": 2
}
