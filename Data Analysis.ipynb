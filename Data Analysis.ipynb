{
 "cells": [
  {
   "cell_type": "code",
   "execution_count": 17,
   "metadata": {},
   "outputs": [],
   "source": [
    "# import dependencies\n",
    "%matplotlib inline\n",
    "import matplotlib.pyplot as plt\n",
    "import pandas as pd\n",
    "import numpy as np\n",
    "import statsmodels.api as sm\n",
    "from scipy import stats"
   ]
  },
  {
   "cell_type": "code",
   "execution_count": 18,
   "metadata": {},
   "outputs": [],
   "source": [
    "## SVI 2014 Data\n",
    "NoHigh = pd.read_csv('Output/svi14final.csv')"
   ]
  },
  {
   "cell_type": "code",
   "execution_count": 29,
   "metadata": {},
   "outputs": [],
   "source": [
    "## multivariate testing\n",
    "data = NoHigh[['Per_Capita_Income', 'Poverty', 'Disability', 'NoHighSchoolDiploma']]\n",
    "target = NoHigh['LifeExpectancy'].astype(float)\n",
    "feature_names = data.columns\n",
    "\n",
    "X = data.values\n",
    "y = target.values\n"
   ]
  },
  {
   "cell_type": "code",
   "execution_count": 30,
   "metadata": {},
   "outputs": [
    {
     "name": "stdout",
     "output_type": "stream",
     "text": [
      "(3140, 4) (3140,)\n",
      "Mean Squared Error (MSE): 2.2710654573776323\n",
      "R-squared (R2 ): 0.6173078163889822\n",
      "coef: [ 7.25585498e-05 -9.40529424e-02 -1.60870035e-01 -6.63473095e-02]\n",
      "intercept: 81.07456508385704\n",
      "Training Score: 0.586350607642561\n",
      "Testing Score: 0.6173078163889822\n",
      "Equation: y = [ 7.25585498e-05 -9.40529424e-02 -1.60870035e-01 -6.63473095e-02]x + 81.07456508385704\n"
     ]
    }
   ],
   "source": [
    "# train test split the data for analysis\n",
    "X_train, X_test, y_train, y_test = train_test_split(X, y, test_size=.2)\n",
    "\n",
    "# fit the model\n",
    "model = LinearRegression()\n",
    "model.fit(X_train, y_train)\n",
    "\n",
    "# Use our model to make predictions\n",
    "predicted = model.predict(X_test)\n",
    "\n",
    "training_score = model.score(X_train, y_train)\n",
    "testing_score = model.score(X_test, y_test)\n",
    "\n",
    "# Score the predictions with mse and r2\n",
    "mse = mean_squared_error(y_test, predicted)\n",
    "r2 = r2_score(y_test, predicted)\n",
    "coef = model.coef_\n",
    "intercept = model.intercept_\n",
    "\n",
    "\n",
    "\n",
    "print(X.shape, y.shape)\n",
    "print(f\"Mean Squared Error (MSE): {mse}\")\n",
    "print(f\"R-squared (R2 ): {r2}\")\n",
    "print(f'coef: {coef}')\n",
    "print(f'intercept: {intercept}')\n",
    "print(f\"Training Score: {training_score}\")\n",
    "print(f\"Testing Score: {testing_score}\")\n",
    "print(f\"Equation: y = {coef}x + {intercept}\")"
   ]
  },
  {
   "cell_type": "code",
   "execution_count": null,
   "metadata": {},
   "outputs": [],
   "source": [
    "### Equation: y = [ 7.25585498e-05 -9.40529424e-02 -1.60870035e-01 -6.63473095e-02]x + 81.07456508385704\n",
    "### R-squared (R2 ): 0.6173078163889822"
   ]
  },
  {
   "cell_type": "code",
   "execution_count": 31,
   "metadata": {},
   "outputs": [
    {
     "name": "stdout",
     "output_type": "stream",
     "text": [
      "Per_Capita_Income      24066.300955\n",
      "Poverty                   16.792452\n",
      "Disability                15.544076\n",
      "NoHighSchoolDiploma       15.013408\n",
      "dtype: float64\n"
     ]
    }
   ],
   "source": [
    "default = NoHigh[['Per_Capita_Income', 'Poverty', 'Disability', 'NoHighSchoolDiploma']].mean()\n",
    "min_val = NoHigh[['Per_Capita_Income', 'Poverty', 'Disability', 'NoHighSchoolDiploma']].min()\n",
    "max_val = NoHigh[['Per_Capita_Income', 'Poverty', 'Disability', 'NoHighSchoolDiploma']].max()\n",
    "\n",
    "print(default)"
   ]
  },
  {
   "cell_type": "code",
   "execution_count": 32,
   "metadata": {},
   "outputs": [
    {
     "name": "stdout",
     "output_type": "stream",
     "text": [
      "Per_Capita_Income      63610.0\n",
      "Poverty                   47.9\n",
      "Disability                34.0\n",
      "NoHighSchoolDiploma       53.3\n",
      "dtype: float64\n"
     ]
    }
   ],
   "source": [
    "print(max_val)"
   ]
  },
  {
   "cell_type": "code",
   "execution_count": 33,
   "metadata": {},
   "outputs": [
    {
     "name": "stdout",
     "output_type": "stream",
     "text": [
      "Per_Capita_Income      8200.0\n",
      "Poverty                   1.0\n",
      "Disability                4.4\n",
      "NoHighSchoolDiploma       1.3\n",
      "dtype: float64\n"
     ]
    }
   ],
   "source": [
    "print (min_val)"
   ]
  },
  {
   "cell_type": "code",
   "execution_count": null,
   "metadata": {},
   "outputs": [],
   "source": []
  }
 ],
 "metadata": {
  "kernelspec": {
   "display_name": "Python 3",
   "language": "python",
   "name": "python3"
  },
  "language_info": {
   "codemirror_mode": {
    "name": "ipython",
    "version": 3
   },
   "file_extension": ".py",
   "mimetype": "text/x-python",
   "name": "python",
   "nbconvert_exporter": "python",
   "pygments_lexer": "ipython3",
   "version": "3.7.0"
  }
 },
 "nbformat": 4,
 "nbformat_minor": 2
}
