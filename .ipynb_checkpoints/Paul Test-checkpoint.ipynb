{
 "cells": [
  {
   "cell_type": "code",
   "execution_count": 1,
   "metadata": {},
   "outputs": [],
   "source": [
    "import pandas as pd\n",
    "import numpy as np"
   ]
  },
  {
   "cell_type": "code",
   "execution_count": 2,
   "metadata": {},
   "outputs": [],
   "source": [
    "overalldeath = pd.read_csv('Resources/OverallDeaths.txt', sep=\"\\t\")"
   ]
  },
  {
   "cell_type": "code",
   "execution_count": 3,
   "metadata": {},
   "outputs": [],
   "source": [
    "overalldeath = overalldeath.rename(columns={'Deaths': 'Total_Deaths'})\n",
    "overalldeath = overalldeath.drop(['Crude Rate', 'Notes'], axis=1)\n",
    "overalldeath = pd.read_csv('Resources/OverallDeaths.txt', sep=\"\\t\")\n",
    "overalldeath = overalldeath.rename(columns={'Deaths': 'Total_Deaths'})\n",
    "overalldeath = overalldeath.drop(['Crude Rate', 'Notes'], axis=1)\n",
    "overalldeath[\"Total_Death_Rate\"] = (overalldeath['Total_Deaths'] / overalldeath['Population']) * 1000"
   ]
  },
  {
   "cell_type": "code",
   "execution_count": 4,
   "metadata": {},
   "outputs": [],
   "source": [
    "accident = pd.read_csv('Resources/AccidentDeaths.txt', sep=\"\\t\")\n",
    "accident = accident.rename(columns={'Deaths': 'Accident_Deaths'})\n",
    "accident[\"Accident_Death_Rate\"] = (accident['Accident_Deaths'] / accident['Population']) * 1000\n",
    "accident = accident[[\"County Code\", \"Accident_Deaths\", \"Accident_Death_Rate\"]]\n",
    "merge1 = overalldeath.merge(accident, how=\"outer\", left_on='County Code', right_on='County Code')"
   ]
  },
  {
   "cell_type": "code",
   "execution_count": 5,
   "metadata": {},
   "outputs": [],
   "source": [
    "Alzheimer = pd.read_csv('Resources/AlzheimerDeaths.txt', sep=\"\\t\")\n",
    "Alzheimer = Alzheimer.rename(columns={'Deaths': 'Alzheimer_Deaths'})\n",
    "Alzheimer[\"Alzheimer_Death_Rate\"] = (Alzheimer['Alzheimer_Deaths'] / Alzheimer['Population']) * 1000\n",
    "Alzheimer = Alzheimer[[\"County Code\", \"Alzheimer_Deaths\", \"Alzheimer_Death_Rate\"]]\n",
    "merge2 = merge1.merge(Alzheimer, how=\"outer\", left_on='County Code', right_on='County Code')"
   ]
  },
  {
   "cell_type": "code",
   "execution_count": 6,
   "metadata": {},
   "outputs": [],
   "source": [
    "Cancer = pd.read_csv('Resources/CancerDeaths.txt', sep=\"\\t\")\n",
    "Cancer = Cancer.rename(columns={'Deaths': 'Cancer_Deaths'})\n",
    "Cancer[\"Cancer_Death_Rate\"] = (Cancer['Cancer_Deaths'] / Cancer['Population']) * 1000\n",
    "Cancer = Cancer[[\"County Code\", \"Cancer_Deaths\", \"Cancer_Death_Rate\"]]\n",
    "merge3 = merge2.merge(Cancer, how=\"outer\", left_on='County Code', right_on='County Code')"
   ]
  },
  {
   "cell_type": "code",
   "execution_count": 7,
   "metadata": {},
   "outputs": [],
   "source": [
    "Diabetes = pd.read_csv('Resources/DiabetesDeaths.txt', sep=\"\\t\")\n",
    "Diabetes = Diabetes.rename(columns={'Deaths': 'Diabetes_Deaths'})\n",
    "Diabetes[\"Diabetes_Death_Rate\"] = (Diabetes['Diabetes_Deaths'] / Diabetes['Population']) * 1000\n",
    "Diabetes = Diabetes[[\"County Code\", \"Diabetes_Deaths\", \"Diabetes_Death_Rate\"]]\n",
    "merge4 = merge3.merge(Diabetes, how=\"outer\", left_on='County Code', right_on='County Code')"
   ]
  },
  {
   "cell_type": "code",
   "execution_count": 8,
   "metadata": {},
   "outputs": [],
   "source": [
    "Flu = pd.read_csv('Resources/FluDeaths.txt', sep=\"\\t\")\n",
    "Flu = Flu.rename(columns={'Deaths': 'Flu_Deaths'})\n",
    "Flu[\"Flu_Death_Rate\"] = (Flu['Flu_Deaths'] / Flu['Population']) * 1000\n",
    "Flu = Flu[[\"County Code\", \"Flu_Deaths\", \"Flu_Death_Rate\"]]\n",
    "merge5 = merge4.merge(Flu, how=\"outer\", left_on='County Code', right_on='County Code')"
   ]
  },
  {
   "cell_type": "code",
   "execution_count": 9,
   "metadata": {},
   "outputs": [],
   "source": [
    "Heart = pd.read_csv('Resources/HeartDeaths.txt', sep=\"\\t\")\n",
    "Heart = Heart.rename(columns={'Deaths': 'Heart_Deaths'})\n",
    "Heart[\"Heart_Death_Rate\"] = (Heart['Heart_Deaths'] / Heart['Population']) * 1000\n",
    "Heart = Heart[[\"County Code\", \"Heart_Deaths\", \"Heart_Death_Rate\"]]\n",
    "merge6 = merge5.merge(Heart, how=\"outer\", left_on='County Code', right_on='County Code')"
   ]
  },
  {
   "cell_type": "code",
   "execution_count": 10,
   "metadata": {},
   "outputs": [],
   "source": [
    "Kidney = pd.read_csv('Resources/KidneyDeaths.txt', sep=\"\\t\")\n",
    "Kidney = Kidney.rename(columns={'Deaths': 'Kidney_Deaths'})\n",
    "Kidney[\"Kidney_Death_Rate\"] = (Kidney['Kidney_Deaths'] / Kidney['Population']) * 1000\n",
    "Kidney = Kidney[[\"County Code\", \"Kidney_Deaths\", \"Kidney_Death_Rate\"]]\n",
    "merge7 = merge6.merge(Kidney, how=\"outer\", left_on='County Code', right_on='County Code')"
   ]
  },
  {
   "cell_type": "code",
   "execution_count": 11,
   "metadata": {},
   "outputs": [],
   "source": [
    "LowerResp = pd.read_csv('Resources/LowerRespDeaths.txt', sep=\"\\t\")\n",
    "LowerResp = LowerResp.rename(columns={'Deaths': 'LowerResp_Deaths'})\n",
    "LowerResp[\"LowerResp_Death_Rate\"] = (LowerResp['LowerResp_Deaths'] / LowerResp['Population']) * 1000\n",
    "LowerResp = LowerResp[[\"County Code\", \"LowerResp_Deaths\", \"LowerResp_Death_Rate\"]]\n",
    "merge8 = merge7.merge(LowerResp, how=\"outer\", left_on='County Code', right_on='County Code')"
   ]
  },
  {
   "cell_type": "code",
   "execution_count": 12,
   "metadata": {},
   "outputs": [],
   "source": [
    "Stroke = pd.read_csv('Resources/StrokeDeaths.txt', sep=\"\\t\")\n",
    "Stroke = Stroke.rename(columns={'Deaths': 'Stroke_Deaths'})\n",
    "Stroke[\"Stroke_Death_Rate\"] = (Stroke['Stroke_Deaths'] / Stroke['Population']) * 1000\n",
    "Stroke = Stroke[[\"County Code\", \"Stroke_Deaths\", \"Stroke_Death_Rate\"]]\n",
    "merge9 = merge8.merge(Stroke, how=\"outer\", left_on='County Code', right_on='County Code')"
   ]
  },
  {
   "cell_type": "code",
   "execution_count": 13,
   "metadata": {},
   "outputs": [],
   "source": [
    "Suicide = pd.read_csv('Resources/SuicideDeaths.txt', sep=\"\\t\")\n",
    "Suicide = Suicide.rename(columns={'Deaths': 'Suicide_Deaths'})\n",
    "Suicide[\"Suicide_Death_Rate\"] = (Suicide['Suicide_Deaths'] / Suicide['Population']) * 1000\n",
    "Suicide = Suicide[[\"County Code\", \"Suicide_Deaths\", \"Suicide_Death_Rate\"]]\n",
    "merge10 = merge9.merge(Suicide, how=\"outer\", left_on='County Code', right_on='County Code')"
   ]
  },
  {
   "cell_type": "code",
   "execution_count": 14,
   "metadata": {},
   "outputs": [
    {
     "data": {
      "text/html": [
       "<div>\n",
       "<style scoped>\n",
       "    .dataframe tbody tr th:only-of-type {\n",
       "        vertical-align: middle;\n",
       "    }\n",
       "\n",
       "    .dataframe tbody tr th {\n",
       "        vertical-align: top;\n",
       "    }\n",
       "\n",
       "    .dataframe thead th {\n",
       "        text-align: right;\n",
       "    }\n",
       "</style>\n",
       "<table border=\"1\" class=\"dataframe\">\n",
       "  <thead>\n",
       "    <tr style=\"text-align: right;\">\n",
       "      <th></th>\n",
       "      <th>County</th>\n",
       "      <th>County Code</th>\n",
       "      <th>Total_Deaths</th>\n",
       "      <th>Population</th>\n",
       "      <th>Total_Death_Rate</th>\n",
       "      <th>Accident_Deaths</th>\n",
       "      <th>Accident_Death_Rate</th>\n",
       "      <th>Alzheimer_Deaths</th>\n",
       "      <th>Alzheimer_Death_Rate</th>\n",
       "      <th>Cancer_Deaths</th>\n",
       "      <th>...</th>\n",
       "      <th>Heart_Deaths</th>\n",
       "      <th>Heart_Death_Rate</th>\n",
       "      <th>Kidney_Deaths</th>\n",
       "      <th>Kidney_Death_Rate</th>\n",
       "      <th>LowerResp_Deaths</th>\n",
       "      <th>LowerResp_Death_Rate</th>\n",
       "      <th>Stroke_Deaths</th>\n",
       "      <th>Stroke_Death_Rate</th>\n",
       "      <th>Suicide_Deaths</th>\n",
       "      <th>Suicide_Death_Rate</th>\n",
       "    </tr>\n",
       "  </thead>\n",
       "  <tbody>\n",
       "    <tr>\n",
       "      <th>0</th>\n",
       "      <td>Autauga County, AL</td>\n",
       "      <td>1001</td>\n",
       "      <td>520</td>\n",
       "      <td>55416</td>\n",
       "      <td>9.383572</td>\n",
       "      <td>30.0</td>\n",
       "      <td>0.541360</td>\n",
       "      <td>20.0</td>\n",
       "      <td>0.360907</td>\n",
       "      <td>106.0</td>\n",
       "      <td>...</td>\n",
       "      <td>118.0</td>\n",
       "      <td>2.129349</td>\n",
       "      <td>NaN</td>\n",
       "      <td>NaN</td>\n",
       "      <td>37.0</td>\n",
       "      <td>0.667677</td>\n",
       "      <td>36.0</td>\n",
       "      <td>0.649632</td>\n",
       "      <td>14.0</td>\n",
       "      <td>0.252635</td>\n",
       "    </tr>\n",
       "    <tr>\n",
       "      <th>1</th>\n",
       "      <td>Baldwin County, AL</td>\n",
       "      <td>1003</td>\n",
       "      <td>1974</td>\n",
       "      <td>208563</td>\n",
       "      <td>9.464766</td>\n",
       "      <td>98.0</td>\n",
       "      <td>0.469882</td>\n",
       "      <td>63.0</td>\n",
       "      <td>0.302067</td>\n",
       "      <td>461.0</td>\n",
       "      <td>...</td>\n",
       "      <td>492.0</td>\n",
       "      <td>2.358999</td>\n",
       "      <td>47.0</td>\n",
       "      <td>0.225352</td>\n",
       "      <td>119.0</td>\n",
       "      <td>0.570571</td>\n",
       "      <td>110.0</td>\n",
       "      <td>0.527419</td>\n",
       "      <td>42.0</td>\n",
       "      <td>0.201378</td>\n",
       "    </tr>\n",
       "    <tr>\n",
       "      <th>2</th>\n",
       "      <td>Barbour County, AL</td>\n",
       "      <td>1005</td>\n",
       "      <td>256</td>\n",
       "      <td>25965</td>\n",
       "      <td>9.859426</td>\n",
       "      <td>10.0</td>\n",
       "      <td>0.385134</td>\n",
       "      <td>NaN</td>\n",
       "      <td>NaN</td>\n",
       "      <td>59.0</td>\n",
       "      <td>...</td>\n",
       "      <td>67.0</td>\n",
       "      <td>2.580397</td>\n",
       "      <td>11.0</td>\n",
       "      <td>0.423647</td>\n",
       "      <td>11.0</td>\n",
       "      <td>0.423647</td>\n",
       "      <td>20.0</td>\n",
       "      <td>0.770268</td>\n",
       "      <td>NaN</td>\n",
       "      <td>NaN</td>\n",
       "    </tr>\n",
       "    <tr>\n",
       "      <th>3</th>\n",
       "      <td>Bibb County, AL</td>\n",
       "      <td>1007</td>\n",
       "      <td>239</td>\n",
       "      <td>22643</td>\n",
       "      <td>10.555138</td>\n",
       "      <td>26.0</td>\n",
       "      <td>1.148258</td>\n",
       "      <td>NaN</td>\n",
       "      <td>NaN</td>\n",
       "      <td>55.0</td>\n",
       "      <td>...</td>\n",
       "      <td>63.0</td>\n",
       "      <td>2.782317</td>\n",
       "      <td>NaN</td>\n",
       "      <td>NaN</td>\n",
       "      <td>13.0</td>\n",
       "      <td>0.574129</td>\n",
       "      <td>15.0</td>\n",
       "      <td>0.662456</td>\n",
       "      <td>NaN</td>\n",
       "      <td>NaN</td>\n",
       "    </tr>\n",
       "    <tr>\n",
       "      <th>4</th>\n",
       "      <td>Blount County, AL</td>\n",
       "      <td>1009</td>\n",
       "      <td>697</td>\n",
       "      <td>57704</td>\n",
       "      <td>12.078885</td>\n",
       "      <td>54.0</td>\n",
       "      <td>0.935810</td>\n",
       "      <td>27.0</td>\n",
       "      <td>0.467905</td>\n",
       "      <td>155.0</td>\n",
       "      <td>...</td>\n",
       "      <td>154.0</td>\n",
       "      <td>2.668792</td>\n",
       "      <td>NaN</td>\n",
       "      <td>NaN</td>\n",
       "      <td>63.0</td>\n",
       "      <td>1.091779</td>\n",
       "      <td>36.0</td>\n",
       "      <td>0.623874</td>\n",
       "      <td>11.0</td>\n",
       "      <td>0.190628</td>\n",
       "    </tr>\n",
       "  </tbody>\n",
       "</table>\n",
       "<p>5 rows × 25 columns</p>\n",
       "</div>"
      ],
      "text/plain": [
       "               County  County Code  Total_Deaths  Population  \\\n",
       "0  Autauga County, AL         1001           520       55416   \n",
       "1  Baldwin County, AL         1003          1974      208563   \n",
       "2  Barbour County, AL         1005           256       25965   \n",
       "3     Bibb County, AL         1007           239       22643   \n",
       "4   Blount County, AL         1009           697       57704   \n",
       "\n",
       "   Total_Death_Rate  Accident_Deaths  Accident_Death_Rate  Alzheimer_Deaths  \\\n",
       "0          9.383572             30.0             0.541360              20.0   \n",
       "1          9.464766             98.0             0.469882              63.0   \n",
       "2          9.859426             10.0             0.385134               NaN   \n",
       "3         10.555138             26.0             1.148258               NaN   \n",
       "4         12.078885             54.0             0.935810              27.0   \n",
       "\n",
       "   Alzheimer_Death_Rate  Cancer_Deaths         ...          Heart_Deaths  \\\n",
       "0              0.360907          106.0         ...                 118.0   \n",
       "1              0.302067          461.0         ...                 492.0   \n",
       "2                   NaN           59.0         ...                  67.0   \n",
       "3                   NaN           55.0         ...                  63.0   \n",
       "4              0.467905          155.0         ...                 154.0   \n",
       "\n",
       "   Heart_Death_Rate  Kidney_Deaths  Kidney_Death_Rate  LowerResp_Deaths  \\\n",
       "0          2.129349            NaN                NaN              37.0   \n",
       "1          2.358999           47.0           0.225352             119.0   \n",
       "2          2.580397           11.0           0.423647              11.0   \n",
       "3          2.782317            NaN                NaN              13.0   \n",
       "4          2.668792            NaN                NaN              63.0   \n",
       "\n",
       "   LowerResp_Death_Rate  Stroke_Deaths  Stroke_Death_Rate  Suicide_Deaths  \\\n",
       "0              0.667677           36.0           0.649632            14.0   \n",
       "1              0.570571          110.0           0.527419            42.0   \n",
       "2              0.423647           20.0           0.770268             NaN   \n",
       "3              0.574129           15.0           0.662456             NaN   \n",
       "4              1.091779           36.0           0.623874            11.0   \n",
       "\n",
       "   Suicide_Death_Rate  \n",
       "0            0.252635  \n",
       "1            0.201378  \n",
       "2                 NaN  \n",
       "3                 NaN  \n",
       "4            0.190628  \n",
       "\n",
       "[5 rows x 25 columns]"
      ]
     },
     "execution_count": 14,
     "metadata": {},
     "output_type": "execute_result"
    }
   ],
   "source": [
    "merge10.head()"
   ]
  },
  {
   "cell_type": "code",
   "execution_count": 15,
   "metadata": {},
   "outputs": [],
   "source": [
    "# fill all nan with 0 - could also comment this out too\n",
    "#merge10 = merge10.apply(pd.to_numeric, errors='coerce').fillna(0, downcast='infer')"
   ]
  },
  {
   "cell_type": "code",
   "execution_count": null,
   "metadata": {},
   "outputs": [],
   "source": []
  },
  {
   "cell_type": "code",
   "execution_count": 17,
   "metadata": {},
   "outputs": [
    {
     "data": {
      "text/plain": [
       "County                   object\n",
       "County Code               int64\n",
       "Total_Deaths              int64\n",
       "Population                int64\n",
       "Total_Death_Rate        float64\n",
       "Accident_Deaths         float64\n",
       "Accident_Death_Rate     float64\n",
       "Alzheimer_Deaths        float64\n",
       "Alzheimer_Death_Rate    float64\n",
       "Cancer_Deaths           float64\n",
       "Cancer_Death_Rate       float64\n",
       "Diabetes_Deaths         float64\n",
       "Diabetes_Death_Rate     float64\n",
       "Flu_Deaths              float64\n",
       "Flu_Death_Rate          float64\n",
       "Heart_Deaths            float64\n",
       "Heart_Death_Rate        float64\n",
       "Kidney_Deaths           float64\n",
       "Kidney_Death_Rate       float64\n",
       "LowerResp_Deaths        float64\n",
       "LowerResp_Death_Rate    float64\n",
       "Stroke_Deaths           float64\n",
       "Stroke_Death_Rate       float64\n",
       "Suicide_Deaths          float64\n",
       "Suicide_Death_Rate      float64\n",
       "dtype: object"
      ]
     },
     "execution_count": 17,
     "metadata": {},
     "output_type": "execute_result"
    }
   ],
   "source": [
    "merge10.dtypes"
   ]
  },
  {
   "cell_type": "code",
   "execution_count": 18,
   "metadata": {},
   "outputs": [
    {
     "data": {
      "text/plain": [
       "3105"
      ]
     },
     "execution_count": 18,
     "metadata": {},
     "output_type": "execute_result"
    }
   ],
   "source": [
    "len(merge10)"
   ]
  },
  {
   "cell_type": "code",
   "execution_count": 19,
   "metadata": {},
   "outputs": [],
   "source": [
    "merge10.to_csv('Resources/output_deathrates.csv')"
   ]
  },
  {
   "cell_type": "code",
   "execution_count": 20,
   "metadata": {},
   "outputs": [],
   "source": [
    "deathrate = pd.read_csv('Resources/output_deathrates.csv')"
   ]
  },
  {
   "cell_type": "code",
   "execution_count": 21,
   "metadata": {},
   "outputs": [],
   "source": [
    "# read in top 10 mortality data and rates csv that was created from txt files\n",
    "deathrate = pd.read_csv('output_deathrates.csv')\n",
    "\n",
    "# create FIPS column that matches the existing county code\n",
    "deathrate[\"FIPS\"] = deathrate[\"County Code\"]"
   ]
  },
  {
   "cell_type": "code",
   "execution_count": 22,
   "metadata": {},
   "outputs": [
    {
     "data": {
      "text/html": [
       "<div>\n",
       "<style scoped>\n",
       "    .dataframe tbody tr th:only-of-type {\n",
       "        vertical-align: middle;\n",
       "    }\n",
       "\n",
       "    .dataframe tbody tr th {\n",
       "        vertical-align: top;\n",
       "    }\n",
       "\n",
       "    .dataframe thead th {\n",
       "        text-align: right;\n",
       "    }\n",
       "</style>\n",
       "<table border=\"1\" class=\"dataframe\">\n",
       "  <thead>\n",
       "    <tr style=\"text-align: right;\">\n",
       "      <th></th>\n",
       "      <th>Unnamed: 0</th>\n",
       "      <th>County</th>\n",
       "      <th>County Code</th>\n",
       "      <th>Total_Deaths</th>\n",
       "      <th>Population</th>\n",
       "      <th>Total_Death_Rate</th>\n",
       "      <th>Accident_Deaths</th>\n",
       "      <th>Accident_Death_Rate</th>\n",
       "      <th>Alzheimer_Deaths</th>\n",
       "      <th>Alzheimer_Death_Rate</th>\n",
       "      <th>...</th>\n",
       "      <th>Heart_Death_Rate</th>\n",
       "      <th>Kidney_Deaths</th>\n",
       "      <th>Kidney_Death_Rate</th>\n",
       "      <th>LowerResp_Deaths</th>\n",
       "      <th>LowerResp_Death_Rate</th>\n",
       "      <th>Stroke_Deaths</th>\n",
       "      <th>Stroke_Death_Rate</th>\n",
       "      <th>Suicide_Deaths</th>\n",
       "      <th>Suicide_Death_Rate</th>\n",
       "      <th>FIPS</th>\n",
       "    </tr>\n",
       "  </thead>\n",
       "  <tbody>\n",
       "    <tr>\n",
       "      <th>0</th>\n",
       "      <td>0</td>\n",
       "      <td>0</td>\n",
       "      <td>1001</td>\n",
       "      <td>520</td>\n",
       "      <td>55416</td>\n",
       "      <td>9.383572</td>\n",
       "      <td>30</td>\n",
       "      <td>0.541360</td>\n",
       "      <td>20</td>\n",
       "      <td>0.360907</td>\n",
       "      <td>...</td>\n",
       "      <td>2.129349</td>\n",
       "      <td>0</td>\n",
       "      <td>0.000000</td>\n",
       "      <td>37</td>\n",
       "      <td>0.667677</td>\n",
       "      <td>36</td>\n",
       "      <td>0.649632</td>\n",
       "      <td>14</td>\n",
       "      <td>0.252635</td>\n",
       "      <td>1001</td>\n",
       "    </tr>\n",
       "    <tr>\n",
       "      <th>1</th>\n",
       "      <td>1</td>\n",
       "      <td>0</td>\n",
       "      <td>1003</td>\n",
       "      <td>1974</td>\n",
       "      <td>208563</td>\n",
       "      <td>9.464766</td>\n",
       "      <td>98</td>\n",
       "      <td>0.469882</td>\n",
       "      <td>63</td>\n",
       "      <td>0.302067</td>\n",
       "      <td>...</td>\n",
       "      <td>2.358999</td>\n",
       "      <td>47</td>\n",
       "      <td>0.225352</td>\n",
       "      <td>119</td>\n",
       "      <td>0.570571</td>\n",
       "      <td>110</td>\n",
       "      <td>0.527419</td>\n",
       "      <td>42</td>\n",
       "      <td>0.201378</td>\n",
       "      <td>1003</td>\n",
       "    </tr>\n",
       "    <tr>\n",
       "      <th>2</th>\n",
       "      <td>2</td>\n",
       "      <td>0</td>\n",
       "      <td>1005</td>\n",
       "      <td>256</td>\n",
       "      <td>25965</td>\n",
       "      <td>9.859426</td>\n",
       "      <td>10</td>\n",
       "      <td>0.385134</td>\n",
       "      <td>0</td>\n",
       "      <td>0.000000</td>\n",
       "      <td>...</td>\n",
       "      <td>2.580397</td>\n",
       "      <td>11</td>\n",
       "      <td>0.423647</td>\n",
       "      <td>11</td>\n",
       "      <td>0.423647</td>\n",
       "      <td>20</td>\n",
       "      <td>0.770268</td>\n",
       "      <td>0</td>\n",
       "      <td>0.000000</td>\n",
       "      <td>1005</td>\n",
       "    </tr>\n",
       "    <tr>\n",
       "      <th>3</th>\n",
       "      <td>3</td>\n",
       "      <td>0</td>\n",
       "      <td>1007</td>\n",
       "      <td>239</td>\n",
       "      <td>22643</td>\n",
       "      <td>10.555138</td>\n",
       "      <td>26</td>\n",
       "      <td>1.148258</td>\n",
       "      <td>0</td>\n",
       "      <td>0.000000</td>\n",
       "      <td>...</td>\n",
       "      <td>2.782317</td>\n",
       "      <td>0</td>\n",
       "      <td>0.000000</td>\n",
       "      <td>13</td>\n",
       "      <td>0.574129</td>\n",
       "      <td>15</td>\n",
       "      <td>0.662456</td>\n",
       "      <td>0</td>\n",
       "      <td>0.000000</td>\n",
       "      <td>1007</td>\n",
       "    </tr>\n",
       "    <tr>\n",
       "      <th>4</th>\n",
       "      <td>4</td>\n",
       "      <td>0</td>\n",
       "      <td>1009</td>\n",
       "      <td>697</td>\n",
       "      <td>57704</td>\n",
       "      <td>12.078885</td>\n",
       "      <td>54</td>\n",
       "      <td>0.935810</td>\n",
       "      <td>27</td>\n",
       "      <td>0.467905</td>\n",
       "      <td>...</td>\n",
       "      <td>2.668792</td>\n",
       "      <td>0</td>\n",
       "      <td>0.000000</td>\n",
       "      <td>63</td>\n",
       "      <td>1.091779</td>\n",
       "      <td>36</td>\n",
       "      <td>0.623874</td>\n",
       "      <td>11</td>\n",
       "      <td>0.190628</td>\n",
       "      <td>1009</td>\n",
       "    </tr>\n",
       "  </tbody>\n",
       "</table>\n",
       "<p>5 rows × 27 columns</p>\n",
       "</div>"
      ],
      "text/plain": [
       "   Unnamed: 0  County  County Code  Total_Deaths  Population  \\\n",
       "0           0       0         1001           520       55416   \n",
       "1           1       0         1003          1974      208563   \n",
       "2           2       0         1005           256       25965   \n",
       "3           3       0         1007           239       22643   \n",
       "4           4       0         1009           697       57704   \n",
       "\n",
       "   Total_Death_Rate  Accident_Deaths  Accident_Death_Rate  Alzheimer_Deaths  \\\n",
       "0          9.383572               30             0.541360                20   \n",
       "1          9.464766               98             0.469882                63   \n",
       "2          9.859426               10             0.385134                 0   \n",
       "3         10.555138               26             1.148258                 0   \n",
       "4         12.078885               54             0.935810                27   \n",
       "\n",
       "   Alzheimer_Death_Rate  ...   Heart_Death_Rate  Kidney_Deaths  \\\n",
       "0              0.360907  ...           2.129349              0   \n",
       "1              0.302067  ...           2.358999             47   \n",
       "2              0.000000  ...           2.580397             11   \n",
       "3              0.000000  ...           2.782317              0   \n",
       "4              0.467905  ...           2.668792              0   \n",
       "\n",
       "   Kidney_Death_Rate  LowerResp_Deaths  LowerResp_Death_Rate  Stroke_Deaths  \\\n",
       "0           0.000000                37              0.667677             36   \n",
       "1           0.225352               119              0.570571            110   \n",
       "2           0.423647                11              0.423647             20   \n",
       "3           0.000000                13              0.574129             15   \n",
       "4           0.000000                63              1.091779             36   \n",
       "\n",
       "   Stroke_Death_Rate  Suicide_Deaths  Suicide_Death_Rate  FIPS  \n",
       "0           0.649632              14            0.252635  1001  \n",
       "1           0.527419              42            0.201378  1003  \n",
       "2           0.770268               0            0.000000  1005  \n",
       "3           0.662456               0            0.000000  1007  \n",
       "4           0.623874              11            0.190628  1009  \n",
       "\n",
       "[5 rows x 27 columns]"
      ]
     },
     "execution_count": 22,
     "metadata": {},
     "output_type": "execute_result"
    }
   ],
   "source": [
    "deathrate.head()"
   ]
  },
  {
   "cell_type": "code",
   "execution_count": 23,
   "metadata": {},
   "outputs": [
    {
     "ename": "TypeError",
     "evalue": "'DataFrame' object is not callable",
     "output_type": "error",
     "traceback": [
      "\u001b[1;31m---------------------------------------------------------------------------\u001b[0m",
      "\u001b[1;31mTypeError\u001b[0m                                 Traceback (most recent call last)",
      "\u001b[1;32m<ipython-input-23-8f3da4785b17>\u001b[0m in \u001b[0;36m<module>\u001b[1;34m()\u001b[0m\n\u001b[0;32m      3\u001b[0m \u001b[1;33m\u001b[0m\u001b[0m\n\u001b[0;32m      4\u001b[0m \u001b[1;31m# merge social vulernability index csv by FIPS county code with deathrate csv County Code.\u001b[0m\u001b[1;33m\u001b[0m\u001b[1;33m\u001b[0m\u001b[0m\n\u001b[1;32m----> 5\u001b[1;33m \u001b[0mtestmerge\u001b[0m \u001b[1;33m=\u001b[0m \u001b[0msvi\u001b[0m\u001b[1;33m(\u001b[0m\u001b[0mdeathrate\u001b[0m\u001b[1;33m,\u001b[0m \u001b[0mhow\u001b[0m\u001b[1;33m=\u001b[0m\u001b[1;34m\"outer\"\u001b[0m\u001b[1;33m,\u001b[0m \u001b[0mleft_on\u001b[0m\u001b[1;33m=\u001b[0m\u001b[1;34m\"FIPS\"\u001b[0m\u001b[1;33m,\u001b[0m \u001b[0mright_on\u001b[0m\u001b[1;33m=\u001b[0m\u001b[1;34m\"FIPS\"\u001b[0m\u001b[1;33m)\u001b[0m\u001b[1;33m\u001b[0m\u001b[0m\n\u001b[0m",
      "\u001b[1;31mTypeError\u001b[0m: 'DataFrame' object is not callable"
     ]
    }
   ],
   "source": [
    "# read ub svi csv from CDC's website\n",
    "svi = pd.read_csv('Resources/SVI2016_US_COUNTY.csv')\n",
    "\n",
    "# merge social vulernability index csv by FIPS county code with deathrate csv County Code. \n",
    "testmerge = svi(deathrate, how=\"outer\", left_on=\"FIPS\", right_on=\"FIPS\") "
   ]
  },
  {
   "cell_type": "code",
   "execution_count": null,
   "metadata": {},
   "outputs": [],
   "source": []
  },
  {
   "cell_type": "code",
   "execution_count": null,
   "metadata": {},
   "outputs": [],
   "source": []
  },
  {
   "cell_type": "code",
   "execution_count": null,
   "metadata": {},
   "outputs": [],
   "source": []
  },
  {
   "cell_type": "code",
   "execution_count": null,
   "metadata": {},
   "outputs": [],
   "source": []
  },
  {
   "cell_type": "code",
   "execution_count": null,
   "metadata": {},
   "outputs": [],
   "source": []
  },
  {
   "cell_type": "code",
   "execution_count": null,
   "metadata": {},
   "outputs": [],
   "source": []
  },
  {
   "cell_type": "code",
   "execution_count": null,
   "metadata": {},
   "outputs": [],
   "source": []
  },
  {
   "cell_type": "code",
   "execution_count": null,
   "metadata": {},
   "outputs": [],
   "source": []
  },
  {
   "cell_type": "code",
   "execution_count": 24,
   "metadata": {},
   "outputs": [
    {
     "data": {
      "text/plain": [
       "3103"
      ]
     },
     "execution_count": 24,
     "metadata": {},
     "output_type": "execute_result"
    }
   ],
   "source": [
    "# what Connor provided\n",
    "svi_merged = pd.read_csv('Resources/SVI Merged.csv')\n",
    "len(svi_merged)"
   ]
  },
  {
   "cell_type": "code",
   "execution_count": null,
   "metadata": {},
   "outputs": [],
   "source": [
    "svi_merged.head()"
   ]
  },
  {
   "cell_type": "code",
   "execution_count": null,
   "metadata": {},
   "outputs": [],
   "source": [
    "# removes margin of error columns from the dataframe and flag \n",
    "svi_merged = svi_merged[svi_merged.columns.drop(list(svi_merged.filter(regex=\"M_\")))]\n",
    "svi_merged = svi_merged[svi_merged.columns.drop(list(svi_merged.filter(regex=\"F_\")))]"
   ]
  },
  {
   "cell_type": "code",
   "execution_count": null,
   "metadata": {},
   "outputs": [],
   "source": [
    "svi_merged.head()"
   ]
  },
  {
   "cell_type": "code",
   "execution_count": null,
   "metadata": {},
   "outputs": [],
   "source": [
    "len(svi_merged)"
   ]
  },
  {
   "cell_type": "code",
   "execution_count": null,
   "metadata": {},
   "outputs": [],
   "source": []
  },
  {
   "cell_type": "code",
   "execution_count": null,
   "metadata": {},
   "outputs": [],
   "source": []
  },
  {
   "cell_type": "code",
   "execution_count": null,
   "metadata": {},
   "outputs": [],
   "source": []
  },
  {
   "cell_type": "code",
   "execution_count": null,
   "metadata": {},
   "outputs": [],
   "source": []
  },
  {
   "cell_type": "code",
   "execution_count": null,
   "metadata": {},
   "outputs": [],
   "source": []
  },
  {
   "cell_type": "code",
   "execution_count": null,
   "metadata": {},
   "outputs": [],
   "source": []
  },
  {
   "cell_type": "code",
   "execution_count": null,
   "metadata": {},
   "outputs": [],
   "source": []
  },
  {
   "cell_type": "code",
   "execution_count": null,
   "metadata": {},
   "outputs": [],
   "source": []
  },
  {
   "cell_type": "code",
   "execution_count": null,
   "metadata": {},
   "outputs": [],
   "source": []
  },
  {
   "cell_type": "code",
   "execution_count": null,
   "metadata": {},
   "outputs": [],
   "source": []
  },
  {
   "cell_type": "code",
   "execution_count": null,
   "metadata": {},
   "outputs": [],
   "source": []
  },
  {
   "cell_type": "code",
   "execution_count": null,
   "metadata": {},
   "outputs": [],
   "source": []
  },
  {
   "cell_type": "code",
   "execution_count": null,
   "metadata": {},
   "outputs": [],
   "source": []
  },
  {
   "cell_type": "code",
   "execution_count": null,
   "metadata": {},
   "outputs": [],
   "source": []
  },
  {
   "cell_type": "code",
   "execution_count": null,
   "metadata": {},
   "outputs": [],
   "source": []
  },
  {
   "cell_type": "code",
   "execution_count": null,
   "metadata": {},
   "outputs": [],
   "source": []
  },
  {
   "cell_type": "code",
   "execution_count": null,
   "metadata": {},
   "outputs": [],
   "source": []
  },
  {
   "cell_type": "code",
   "execution_count": null,
   "metadata": {},
   "outputs": [],
   "source": []
  }
 ],
 "metadata": {
  "kernelspec": {
   "display_name": "Python 3",
   "language": "python",
   "name": "python3"
  },
  "language_info": {
   "codemirror_mode": {
    "name": "ipython",
    "version": 3
   },
   "file_extension": ".py",
   "mimetype": "text/x-python",
   "name": "python",
   "nbconvert_exporter": "python",
   "pygments_lexer": "ipython3",
   "version": "3.7.0"
  }
 },
 "nbformat": 4,
 "nbformat_minor": 2
}
